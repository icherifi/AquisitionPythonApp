{
 "cells": [
  {
   "cell_type": "code",
   "execution_count": 46,
   "metadata": {},
   "outputs": [],
   "source": [
    "import time\n",
    "import pygame\n",
    "import pyxdf\n",
    "import numpy as np\n",
    "from pylsl import StreamInlet, resolve_stream\n",
    "\n",
    "from sklearn.model_selection import train_test_split\n",
    "from sklearn.linear_model import LogisticRegression\n",
    "from sklearn.metrics import accuracy_score\n"
   ]
  },
  {
   "cell_type": "code",
   "execution_count": 47,
   "metadata": {},
   "outputs": [
    {
     "name": "stdout",
     "output_type": "stream",
     "text": [
      "Stream name: eeg\n",
      "Stream type: EEG\n",
      "Stream info: defaultdict(<class 'list'>, {'channel_count': ['8'], 'nominal_srate': ['250.0'], 'channel_format': ['float32'], 'name': ['eeg'], 'type': ['EEG'], 'desc': [defaultdict(<class 'list'>, {'original': [None], 'channels': [defaultdict(<class 'list'>, {'channel': [defaultdict(<class 'list'>, {'label': ['Unknown1']}), defaultdict(<class 'list'>, {'label': ['Unknown2']}), defaultdict(<class 'list'>, {'label': ['Unknown3']}), defaultdict(<class 'list'>, {'label': ['Unknown4']}), defaultdict(<class 'list'>, {'label': ['Unknown5']}), defaultdict(<class 'list'>, {'label': ['Unknown6']}), defaultdict(<class 'list'>, {'label': ['Unknown7']}), defaultdict(<class 'list'>, {'label': ['Unknown8']})]})]})], 'stream_id': 1, 'effective_srate': 250.5018157933484})\n",
      "Stream name: markers\n",
      "Stream type: Markers\n",
      "Stream info: defaultdict(<class 'list'>, {'channel_count': ['1'], 'nominal_srate': ['0'], 'channel_format': ['string'], 'name': ['markers'], 'type': ['Markers'], 'desc': [defaultdict(<class 'list'>, {'original': [None], 'channels': [None]})], 'stream_id': 2, 'effective_srate': 0})\n"
     ]
    }
   ],
   "source": [
    "streams, header = pyxdf.load_xdf('calibrationDataRightLeftArm4sec.xdf')\n",
    "\n",
    "# Print information about the streams\n",
    "for stream in streams:\n",
    "    print(\"Stream name:\", stream['info']['name'][0])\n",
    "    print(\"Stream type:\", stream['info']['type'][0])\n",
    "    print(\"Stream info:\", stream['info'])"
   ]
  },
  {
   "cell_type": "code",
   "execution_count": 48,
   "metadata": {},
   "outputs": [],
   "source": [
    "#Extract the marker and eeg data\n",
    "markers = None\n",
    "for stream in streams:\n",
    "    if stream['info']['type'][0] == 'Markers':\n",
    "        markers = stream['time_series']\n",
    "        break   \n",
    "y = [1 if marker == ['right'] else 0 for marker in markers]\n",
    "    \n",
    "eeg_data = None\n",
    "for stream in streams:\n",
    "    if stream['info']['type'][0] == 'EEG':\n",
    "        eeg_data = stream['time_series']\n",
    "        timestamps = stream['time_stamps']\n",
    "        break\n"
   ]
  },
  {
   "cell_type": "code",
   "execution_count": 59,
   "metadata": {},
   "outputs": [
    {
     "name": "stdout",
     "output_type": "stream",
     "text": [
      "Shape of segmented EEG data: (45, 980, 8)\n"
     ]
    }
   ],
   "source": [
    "# Segment EEG data into sequences\n",
    "sequences = []\n",
    "current_sequence = []\n",
    "current_sequence_start_time = timestamps[0]\n",
    "for i in range(len(eeg_data)):\n",
    "    current_time = timestamps[i]\n",
    "    if current_time - current_sequence_start_time >= 4:\n",
    "        sequences.append(np.array(current_sequence))\n",
    "        current_sequence = []\n",
    "        current_sequence_start_time = current_time\n",
    "    current_sequence.append(eeg_data[i])\n",
    "\n",
    "# Convert sequences to numpy array\n",
    "X = np.array(sequences)\n",
    "X = X[:, -980:]  # Keep only the last 900 samples of each sequence\n",
    "\n",
    "# Print the shape of the segmented EEG data\n",
    "print(\"Shape of segmented EEG data:\", X.shape)\n"
   ]
  },
  {
   "cell_type": "code",
   "execution_count": 60,
   "metadata": {},
   "outputs": [
    {
     "data": {
      "text/html": [
       "<style>#sk-container-id-7 {color: black;}#sk-container-id-7 pre{padding: 0;}#sk-container-id-7 div.sk-toggleable {background-color: white;}#sk-container-id-7 label.sk-toggleable__label {cursor: pointer;display: block;width: 100%;margin-bottom: 0;padding: 0.3em;box-sizing: border-box;text-align: center;}#sk-container-id-7 label.sk-toggleable__label-arrow:before {content: \"▸\";float: left;margin-right: 0.25em;color: #696969;}#sk-container-id-7 label.sk-toggleable__label-arrow:hover:before {color: black;}#sk-container-id-7 div.sk-estimator:hover label.sk-toggleable__label-arrow:before {color: black;}#sk-container-id-7 div.sk-toggleable__content {max-height: 0;max-width: 0;overflow: hidden;text-align: left;background-color: #f0f8ff;}#sk-container-id-7 div.sk-toggleable__content pre {margin: 0.2em;color: black;border-radius: 0.25em;background-color: #f0f8ff;}#sk-container-id-7 input.sk-toggleable__control:checked~div.sk-toggleable__content {max-height: 200px;max-width: 100%;overflow: auto;}#sk-container-id-7 input.sk-toggleable__control:checked~label.sk-toggleable__label-arrow:before {content: \"▾\";}#sk-container-id-7 div.sk-estimator input.sk-toggleable__control:checked~label.sk-toggleable__label {background-color: #d4ebff;}#sk-container-id-7 div.sk-label input.sk-toggleable__control:checked~label.sk-toggleable__label {background-color: #d4ebff;}#sk-container-id-7 input.sk-hidden--visually {border: 0;clip: rect(1px 1px 1px 1px);clip: rect(1px, 1px, 1px, 1px);height: 1px;margin: -1px;overflow: hidden;padding: 0;position: absolute;width: 1px;}#sk-container-id-7 div.sk-estimator {font-family: monospace;background-color: #f0f8ff;border: 1px dotted black;border-radius: 0.25em;box-sizing: border-box;margin-bottom: 0.5em;}#sk-container-id-7 div.sk-estimator:hover {background-color: #d4ebff;}#sk-container-id-7 div.sk-parallel-item::after {content: \"\";width: 100%;border-bottom: 1px solid gray;flex-grow: 1;}#sk-container-id-7 div.sk-label:hover label.sk-toggleable__label {background-color: #d4ebff;}#sk-container-id-7 div.sk-serial::before {content: \"\";position: absolute;border-left: 1px solid gray;box-sizing: border-box;top: 0;bottom: 0;left: 50%;z-index: 0;}#sk-container-id-7 div.sk-serial {display: flex;flex-direction: column;align-items: center;background-color: white;padding-right: 0.2em;padding-left: 0.2em;position: relative;}#sk-container-id-7 div.sk-item {position: relative;z-index: 1;}#sk-container-id-7 div.sk-parallel {display: flex;align-items: stretch;justify-content: center;background-color: white;position: relative;}#sk-container-id-7 div.sk-item::before, #sk-container-id-7 div.sk-parallel-item::before {content: \"\";position: absolute;border-left: 1px solid gray;box-sizing: border-box;top: 0;bottom: 0;left: 50%;z-index: -1;}#sk-container-id-7 div.sk-parallel-item {display: flex;flex-direction: column;z-index: 1;position: relative;background-color: white;}#sk-container-id-7 div.sk-parallel-item:first-child::after {align-self: flex-end;width: 50%;}#sk-container-id-7 div.sk-parallel-item:last-child::after {align-self: flex-start;width: 50%;}#sk-container-id-7 div.sk-parallel-item:only-child::after {width: 0;}#sk-container-id-7 div.sk-dashed-wrapped {border: 1px dashed gray;margin: 0 0.4em 0.5em 0.4em;box-sizing: border-box;padding-bottom: 0.4em;background-color: white;}#sk-container-id-7 div.sk-label label {font-family: monospace;font-weight: bold;display: inline-block;line-height: 1.2em;}#sk-container-id-7 div.sk-label-container {text-align: center;}#sk-container-id-7 div.sk-container {/* jupyter's `normalize.less` sets `[hidden] { display: none; }` but bootstrap.min.css set `[hidden] { display: none !important; }` so we also need the `!important` here to be able to override the default hidden behavior on the sphinx rendered scikit-learn.org. See: https://github.com/scikit-learn/scikit-learn/issues/21755 */display: inline-block !important;position: relative;}#sk-container-id-7 div.sk-text-repr-fallback {display: none;}</style><div id=\"sk-container-id-7\" class=\"sk-top-container\"><div class=\"sk-text-repr-fallback\"><pre>LogisticRegression()</pre><b>In a Jupyter environment, please rerun this cell to show the HTML representation or trust the notebook. <br />On GitHub, the HTML representation is unable to render, please try loading this page with nbviewer.org.</b></div><div class=\"sk-container\" hidden><div class=\"sk-item\"><div class=\"sk-estimator sk-toggleable\"><input class=\"sk-toggleable__control sk-hidden--visually\" id=\"sk-estimator-id-7\" type=\"checkbox\" checked><label for=\"sk-estimator-id-7\" class=\"sk-toggleable__label sk-toggleable__label-arrow\">LogisticRegression</label><div class=\"sk-toggleable__content\"><pre>LogisticRegression()</pre></div></div></div></div></div>"
      ],
      "text/plain": [
       "LogisticRegression()"
      ]
     },
     "execution_count": 60,
     "metadata": {},
     "output_type": "execute_result"
    }
   ],
   "source": [
    "X = np.reshape(X, (X.shape[0], -1)) # Flatten the data (all )\n",
    "X_train, X_test, y_train, y_test = train_test_split(X, y, test_size=0.2, random_state=42)\n",
    "model = LogisticRegression()\n",
    "model.fit(X_train, y_train)\n"
   ]
  },
  {
   "cell_type": "code",
   "execution_count": 61,
   "metadata": {},
   "outputs": [
    {
     "name": "stdout",
     "output_type": "stream",
     "text": [
      "Accuracy: 0.7777777777777778\n"
     ]
    }
   ],
   "source": [
    "# Make predictions on the test set\n",
    "y_pred = model.predict(X_test)\n",
    "\n",
    "# Evaluate the model\n",
    "accuracy = accuracy_score(y_test, y_pred)\n",
    "print(\"Accuracy:\", accuracy)"
   ]
  },
  {
   "cell_type": "code",
   "execution_count": 45,
   "metadata": {},
   "outputs": [
    {
     "name": "stdout",
     "output_type": "stream",
     "text": [
      "(1002, 8)\n",
      "[1]\n",
      "Prediction time: 0.9946823120117188\n",
      "(999, 8)\n",
      "[1]\n",
      "Prediction time: 0.0\n",
      "(1003, 8)\n",
      "[1]\n",
      "Prediction time: 1.9986629486083984\n",
      "(1000, 8)\n",
      "[0]\n",
      "Prediction time: 0.9977817535400391\n",
      "(992, 8)\n",
      "[0]\n",
      "Prediction time: 0.0\n",
      "(998, 8)\n",
      "[0]\n",
      "Prediction time: 0.0\n",
      "(1000, 8)\n",
      "[0]\n",
      "Prediction time: 1.0437965393066406\n",
      "(1001, 8)\n",
      "[0]\n",
      "Prediction time: 0.9968280792236328\n",
      "(1003, 8)\n",
      "[0]\n",
      "Prediction time: 0.0\n"
     ]
    },
    {
     "ename": "KeyboardInterrupt",
     "evalue": "",
     "output_type": "error",
     "traceback": [
      "\u001b[1;31m---------------------------------------------------------------------------\u001b[0m",
      "\u001b[1;31mKeyboardInterrupt\u001b[0m                         Traceback (most recent call last)",
      "Cell \u001b[1;32mIn[45], line 10\u001b[0m\n\u001b[0;32m      8\u001b[0m signals \u001b[38;5;241m=\u001b[39m []\n\u001b[0;32m      9\u001b[0m \u001b[38;5;28;01mwhile\u001b[39;00m timestamp \u001b[38;5;241m<\u001b[39m end_time:\n\u001b[1;32m---> 10\u001b[0m     sample, timestamp \u001b[38;5;241m=\u001b[39m \u001b[43minlet\u001b[49m\u001b[38;5;241;43m.\u001b[39;49m\u001b[43mpull_sample\u001b[49m\u001b[43m(\u001b[49m\u001b[43m)\u001b[49m\n\u001b[0;32m     11\u001b[0m     signals\u001b[38;5;241m.\u001b[39mappend(sample)\n\u001b[0;32m     12\u001b[0m signals \u001b[38;5;241m=\u001b[39m np\u001b[38;5;241m.\u001b[39marray(signals)\n",
      "File \u001b[1;32m~\\AppData\\Local\\Packages\\PythonSoftwareFoundation.Python.3.11_qbz5n2kfra8p0\\LocalCache\\local-packages\\Python311\\site-packages\\pylsl\\pylsl.py:836\u001b[0m, in \u001b[0;36mStreamInlet.pull_sample\u001b[1;34m(self, timeout, sample)\u001b[0m\n\u001b[0;32m    833\u001b[0m     assign_to \u001b[38;5;241m=\u001b[39m \u001b[38;5;28;01mNone\u001b[39;00m\n\u001b[0;32m    835\u001b[0m errcode \u001b[38;5;241m=\u001b[39m c_int()\n\u001b[1;32m--> 836\u001b[0m timestamp \u001b[38;5;241m=\u001b[39m \u001b[38;5;28;43mself\u001b[39;49m\u001b[38;5;241;43m.\u001b[39;49m\u001b[43mdo_pull_sample\u001b[49m\u001b[43m(\u001b[49m\u001b[38;5;28;43mself\u001b[39;49m\u001b[38;5;241;43m.\u001b[39;49m\u001b[43mobj\u001b[49m\u001b[43m,\u001b[49m\u001b[43m \u001b[49m\u001b[43mbyref\u001b[49m\u001b[43m(\u001b[49m\u001b[38;5;28;43mself\u001b[39;49m\u001b[38;5;241;43m.\u001b[39;49m\u001b[43msample\u001b[49m\u001b[43m)\u001b[49m\u001b[43m,\u001b[49m\n\u001b[0;32m    837\u001b[0m \u001b[43m                                \u001b[49m\u001b[38;5;28;43mself\u001b[39;49m\u001b[38;5;241;43m.\u001b[39;49m\u001b[43mchannel_count\u001b[49m\u001b[43m,\u001b[49m\u001b[43m \u001b[49m\u001b[43mc_double\u001b[49m\u001b[43m(\u001b[49m\u001b[43mtimeout\u001b[49m\u001b[43m)\u001b[49m\u001b[43m,\u001b[49m\n\u001b[0;32m    838\u001b[0m \u001b[43m                                \u001b[49m\u001b[43mbyref\u001b[49m\u001b[43m(\u001b[49m\u001b[43merrcode\u001b[49m\u001b[43m)\u001b[49m\u001b[43m)\u001b[49m\n\u001b[0;32m    839\u001b[0m handle_error(errcode)\n\u001b[0;32m    840\u001b[0m \u001b[38;5;28;01mif\u001b[39;00m timestamp:\n",
      "\u001b[1;31mKeyboardInterrupt\u001b[0m: "
     ]
    }
   ],
   "source": [
    "\n",
    "while True :\n",
    "    \n",
    "    streams = resolve_stream()\n",
    "    inlet = StreamInlet(streams[0])\n",
    "    sample, timestamp = inlet.pull_sample()\n",
    "    start_time = timestamp\n",
    "    end_time = start_time + 4 # 4 seconds of data\n",
    "    signals = []\n",
    "    while timestamp < end_time:\n",
    "        sample, timestamp = inlet.pull_sample()\n",
    "        signals.append(sample)\n",
    "    signals = np.array(signals)\n",
    "    print(signals.shape)\n",
    "\n",
    "    X_signal = np.reshape(signals, signals.shape[0]*signals.shape[1]) # Flatten the data (all )\n",
    "    X_signal = X_signal[-7200:]\n",
    "    X_signal = X_signal.reshape(1, -1)\n",
    "    \n",
    "    start_time = time.time()\n",
    "    print(model.predict(X_signal))\n",
    "    end_time = time.time()\n",
    "    prediction_time = end_time - start_time\n",
    "    print(\"Prediction time (ms):\", prediction_time*1000)\n"
   ]
  }
 ],
 "metadata": {
  "kernelspec": {
   "display_name": "Python 3",
   "language": "python",
   "name": "python3"
  },
  "language_info": {
   "codemirror_mode": {
    "name": "ipython",
    "version": 3
   },
   "file_extension": ".py",
   "mimetype": "text/x-python",
   "name": "python",
   "nbconvert_exporter": "python",
   "pygments_lexer": "ipython3",
   "version": "3.11.8"
  }
 },
 "nbformat": 4,
 "nbformat_minor": 2
}
